{
 "cells": [
  {
   "cell_type": "code",
   "execution_count": 21,
   "id": "05179c5d",
   "metadata": {},
   "outputs": [
    {
     "name": "stdout",
     "output_type": "stream",
     "text": [
      "Defaulting to user installation because normal site-packages is not writeable\n",
      "Collecting num2words\n",
      "  Using cached num2words-0.5.12-py3-none-any.whl (125 kB)\n",
      "Collecting docopt>=0.6.2\n",
      "  Using cached docopt-0.6.2.tar.gz (25 kB)\n",
      "  Preparing metadata (setup.py): started\n",
      "  Preparing metadata (setup.py): finished with status 'done'\n",
      "Building wheels for collected packages: docopt\n",
      "  Building wheel for docopt (setup.py): started\n",
      "  Building wheel for docopt (setup.py): finished with status 'done'\n",
      "  Created wheel for docopt: filename=docopt-0.6.2-py2.py3-none-any.whl size=13706 sha256=184e9296fd4ed0e2b23e20de3be3f8c6ae87282efc06bc89cc0c2bc0fd56a181\n",
      "  Stored in directory: c:\\users\\mohammad\\appdata\\local\\pip\\cache\\wheels\\70\\4a\\46\\1309fc853b8d395e60bafaf1b6df7845bdd82c95fd59dd8d2b\n",
      "Successfully built docopt\n",
      "Installing collected packages: docopt, num2words\n",
      "Successfully installed docopt-0.6.2 num2words-0.5.12\n"
     ]
    }
   ],
   "source": [
    "!pip install num2words"
   ]
  },
  {
   "cell_type": "code",
   "execution_count": 1,
   "id": "d14fad77",
   "metadata": {},
   "outputs": [],
   "source": [
    "import numpy as np\n",
    "import pandas as pd"
   ]
  },
  {
   "cell_type": "code",
   "execution_count": 2,
   "id": "cfda9233",
   "metadata": {},
   "outputs": [],
   "source": [
    "df = pd.read_csv(\"df3.csv\")"
   ]
  },
  {
   "cell_type": "code",
   "execution_count": 3,
   "id": "9e1994e6",
   "metadata": {},
   "outputs": [
    {
     "data": {
      "text/html": [
       "<div>\n",
       "<style scoped>\n",
       "    .dataframe tbody tr th:only-of-type {\n",
       "        vertical-align: middle;\n",
       "    }\n",
       "\n",
       "    .dataframe tbody tr th {\n",
       "        vertical-align: top;\n",
       "    }\n",
       "\n",
       "    .dataframe thead th {\n",
       "        text-align: right;\n",
       "    }\n",
       "</style>\n",
       "<table border=\"1\" class=\"dataframe\">\n",
       "  <thead>\n",
       "    <tr style=\"text-align: right;\">\n",
       "      <th></th>\n",
       "      <th>Unnamed: 0</th>\n",
       "      <th>Price</th>\n",
       "      <th>BHK</th>\n",
       "      <th>beds</th>\n",
       "      <th>baths</th>\n",
       "      <th>balcony</th>\n",
       "      <th>covered-parking</th>\n",
       "      <th>Carpet Area</th>\n",
       "      <th>Developer</th>\n",
       "      <th>Project</th>\n",
       "      <th>...</th>\n",
       "      <th>Transaction type</th>\n",
       "      <th>Status</th>\n",
       "      <th>Lifts</th>\n",
       "      <th>Address</th>\n",
       "      <th>Furnishing</th>\n",
       "      <th>Flooring</th>\n",
       "      <th>Water Availability</th>\n",
       "      <th>Status of Electricity</th>\n",
       "      <th>Price_Updated</th>\n",
       "      <th>BHK_2</th>\n",
       "    </tr>\n",
       "  </thead>\n",
       "  <tbody>\n",
       "    <tr>\n",
       "      <th>0</th>\n",
       "      <td>0</td>\n",
       "      <td>60000000</td>\n",
       "      <td>3</td>\n",
       "      <td>3</td>\n",
       "      <td>3.0</td>\n",
       "      <td>NaN</td>\n",
       "      <td>1.0</td>\n",
       "      <td>2300</td>\n",
       "      <td>DLF Ltd.</td>\n",
       "      <td>DLF One Midtown</td>\n",
       "      <td>...</td>\n",
       "      <td>New Property</td>\n",
       "      <td>Under Construction</td>\n",
       "      <td>2</td>\n",
       "      <td>Moti Nagar, New Delhi - West, Delhi NCR</td>\n",
       "      <td>Semi-Furnished</td>\n",
       "      <td>Vitrified</td>\n",
       "      <td>24 Hours Available</td>\n",
       "      <td>No/Rare Powercut</td>\n",
       "      <td>₹6.0 Cr</td>\n",
       "      <td>3</td>\n",
       "    </tr>\n",
       "    <tr>\n",
       "      <th>1</th>\n",
       "      <td>1</td>\n",
       "      <td>47500000</td>\n",
       "      <td>3</td>\n",
       "      <td>3</td>\n",
       "      <td>5.0</td>\n",
       "      <td>NaN</td>\n",
       "      <td>2.0</td>\n",
       "      <td>2250</td>\n",
       "      <td>Indus Home</td>\n",
       "      <td>Luxury Builder Floor</td>\n",
       "      <td>...</td>\n",
       "      <td>New Property</td>\n",
       "      <td>Ready to Move</td>\n",
       "      <td>0</td>\n",
       "      <td>GK II, New Delhi - South, Delhi NCR</td>\n",
       "      <td>Semi-Furnished</td>\n",
       "      <td>NaN</td>\n",
       "      <td>24 Hours Available</td>\n",
       "      <td>No/Rare Powercut</td>\n",
       "      <td>₹4.75 Cr</td>\n",
       "      <td>3</td>\n",
       "    </tr>\n",
       "    <tr>\n",
       "      <th>2</th>\n",
       "      <td>2</td>\n",
       "      <td>45000000</td>\n",
       "      <td>3</td>\n",
       "      <td>3</td>\n",
       "      <td>4.0</td>\n",
       "      <td>NaN</td>\n",
       "      <td>1.0</td>\n",
       "      <td>1872</td>\n",
       "      <td>Metro Buildtech</td>\n",
       "      <td>Premium Builder Floor</td>\n",
       "      <td>...</td>\n",
       "      <td>New Property</td>\n",
       "      <td>Ready to Move</td>\n",
       "      <td>0</td>\n",
       "      <td>GK I, New Delhi - South, Delhi NCR</td>\n",
       "      <td>Semi-Furnished</td>\n",
       "      <td>Vitrified, Wooden, Marble</td>\n",
       "      <td>24 Hours Available</td>\n",
       "      <td>No/Rare Powercut</td>\n",
       "      <td>₹4.50 Cr</td>\n",
       "      <td>3</td>\n",
       "    </tr>\n",
       "    <tr>\n",
       "      <th>3</th>\n",
       "      <td>3</td>\n",
       "      <td>17000000</td>\n",
       "      <td>3</td>\n",
       "      <td>3</td>\n",
       "      <td>2.0</td>\n",
       "      <td>4.0</td>\n",
       "      <td>1.0</td>\n",
       "      <td>1450</td>\n",
       "      <td>Cooperative Group Housing Society</td>\n",
       "      <td>Nishat Apartment</td>\n",
       "      <td>...</td>\n",
       "      <td>Resale</td>\n",
       "      <td>Ready to Move</td>\n",
       "      <td>2</td>\n",
       "      <td>Dwarka Sector 19, New Delhi, Sector 19 Dwarka,...</td>\n",
       "      <td>Furnished</td>\n",
       "      <td>Marble</td>\n",
       "      <td>24 Hours Available</td>\n",
       "      <td>No/Rare Powercut</td>\n",
       "      <td>₹1.70 Cr</td>\n",
       "      <td>3</td>\n",
       "    </tr>\n",
       "    <tr>\n",
       "      <th>4</th>\n",
       "      <td>4</td>\n",
       "      <td>7500000</td>\n",
       "      <td>3</td>\n",
       "      <td>3</td>\n",
       "      <td>3.0</td>\n",
       "      <td>1.0</td>\n",
       "      <td>1.0</td>\n",
       "      <td>1350</td>\n",
       "      <td>Delhi Development Authority DDA</td>\n",
       "      <td>DDA Freedom Fighter Enclave</td>\n",
       "      <td>...</td>\n",
       "      <td>New Property</td>\n",
       "      <td>Ready to Move</td>\n",
       "      <td>0</td>\n",
       "      <td>Freedom Fighter Enclave Saket New Delhi, Saket...</td>\n",
       "      <td>Semi-Furnished</td>\n",
       "      <td>Vitrified, Ceramic Tiles</td>\n",
       "      <td>24 Hours Available</td>\n",
       "      <td>No/Rare Powercut</td>\n",
       "      <td>₹75.0 Lac</td>\n",
       "      <td>3</td>\n",
       "    </tr>\n",
       "  </tbody>\n",
       "</table>\n",
       "<p>5 rows × 21 columns</p>\n",
       "</div>"
      ],
      "text/plain": [
       "   Unnamed: 0     Price  BHK  beds  baths  balcony  covered-parking  \\\n",
       "0           0  60000000    3     3    3.0      NaN              1.0   \n",
       "1           1  47500000    3     3    5.0      NaN              2.0   \n",
       "2           2  45000000    3     3    4.0      NaN              1.0   \n",
       "3           3  17000000    3     3    2.0      4.0              1.0   \n",
       "4           4   7500000    3     3    3.0      1.0              1.0   \n",
       "\n",
       "   Carpet Area                          Developer  \\\n",
       "0         2300                           DLF Ltd.   \n",
       "1         2250                         Indus Home   \n",
       "2         1872                    Metro Buildtech   \n",
       "3         1450  Cooperative Group Housing Society   \n",
       "4         1350    Delhi Development Authority DDA   \n",
       "\n",
       "                       Project  ... Transaction type              Status  \\\n",
       "0              DLF One Midtown  ...     New Property  Under Construction   \n",
       "1         Luxury Builder Floor  ...     New Property       Ready to Move   \n",
       "2        Premium Builder Floor  ...     New Property       Ready to Move   \n",
       "3             Nishat Apartment  ...           Resale       Ready to Move   \n",
       "4  DDA Freedom Fighter Enclave  ...     New Property       Ready to Move   \n",
       "\n",
       "  Lifts                                            Address      Furnishing  \\\n",
       "0     2            Moti Nagar, New Delhi - West, Delhi NCR  Semi-Furnished   \n",
       "1     0                GK II, New Delhi - South, Delhi NCR  Semi-Furnished   \n",
       "2     0                 GK I, New Delhi - South, Delhi NCR  Semi-Furnished   \n",
       "3     2  Dwarka Sector 19, New Delhi, Sector 19 Dwarka,...       Furnished   \n",
       "4     0  Freedom Fighter Enclave Saket New Delhi, Saket...  Semi-Furnished   \n",
       "\n",
       "                    Flooring  Water Availability Status of Electricity  \\\n",
       "0                  Vitrified  24 Hours Available      No/Rare Powercut   \n",
       "1                        NaN  24 Hours Available      No/Rare Powercut   \n",
       "2  Vitrified, Wooden, Marble  24 Hours Available      No/Rare Powercut   \n",
       "3                     Marble  24 Hours Available      No/Rare Powercut   \n",
       "4   Vitrified, Ceramic Tiles  24 Hours Available      No/Rare Powercut   \n",
       "\n",
       "  Price_Updated BHK_2  \n",
       "0       ₹6.0 Cr     3  \n",
       "1      ₹4.75 Cr     3  \n",
       "2      ₹4.50 Cr     3  \n",
       "3      ₹1.70 Cr     3  \n",
       "4     ₹75.0 Lac     3  \n",
       "\n",
       "[5 rows x 21 columns]"
      ]
     },
     "execution_count": 3,
     "metadata": {},
     "output_type": "execute_result"
    }
   ],
   "source": [
    "df.head()"
   ]
  },
  {
   "cell_type": "code",
   "execution_count": 4,
   "id": "b5b0a27d",
   "metadata": {},
   "outputs": [],
   "source": [
    "new_df = df.iloc[:, :8]"
   ]
  },
  {
   "cell_type": "code",
   "execution_count": 5,
   "id": "b706213d",
   "metadata": {},
   "outputs": [
    {
     "data": {
      "text/html": [
       "<div>\n",
       "<style scoped>\n",
       "    .dataframe tbody tr th:only-of-type {\n",
       "        vertical-align: middle;\n",
       "    }\n",
       "\n",
       "    .dataframe tbody tr th {\n",
       "        vertical-align: top;\n",
       "    }\n",
       "\n",
       "    .dataframe thead th {\n",
       "        text-align: right;\n",
       "    }\n",
       "</style>\n",
       "<table border=\"1\" class=\"dataframe\">\n",
       "  <thead>\n",
       "    <tr style=\"text-align: right;\">\n",
       "      <th></th>\n",
       "      <th>Unnamed: 0</th>\n",
       "      <th>Price</th>\n",
       "      <th>BHK</th>\n",
       "      <th>beds</th>\n",
       "      <th>baths</th>\n",
       "      <th>balcony</th>\n",
       "      <th>covered-parking</th>\n",
       "      <th>Carpet Area</th>\n",
       "    </tr>\n",
       "  </thead>\n",
       "  <tbody>\n",
       "    <tr>\n",
       "      <th>0</th>\n",
       "      <td>0</td>\n",
       "      <td>60000000</td>\n",
       "      <td>3</td>\n",
       "      <td>3</td>\n",
       "      <td>3.0</td>\n",
       "      <td>NaN</td>\n",
       "      <td>1.0</td>\n",
       "      <td>2300</td>\n",
       "    </tr>\n",
       "    <tr>\n",
       "      <th>1</th>\n",
       "      <td>1</td>\n",
       "      <td>47500000</td>\n",
       "      <td>3</td>\n",
       "      <td>3</td>\n",
       "      <td>5.0</td>\n",
       "      <td>NaN</td>\n",
       "      <td>2.0</td>\n",
       "      <td>2250</td>\n",
       "    </tr>\n",
       "    <tr>\n",
       "      <th>2</th>\n",
       "      <td>2</td>\n",
       "      <td>45000000</td>\n",
       "      <td>3</td>\n",
       "      <td>3</td>\n",
       "      <td>4.0</td>\n",
       "      <td>NaN</td>\n",
       "      <td>1.0</td>\n",
       "      <td>1872</td>\n",
       "    </tr>\n",
       "    <tr>\n",
       "      <th>3</th>\n",
       "      <td>3</td>\n",
       "      <td>17000000</td>\n",
       "      <td>3</td>\n",
       "      <td>3</td>\n",
       "      <td>2.0</td>\n",
       "      <td>4.0</td>\n",
       "      <td>1.0</td>\n",
       "      <td>1450</td>\n",
       "    </tr>\n",
       "    <tr>\n",
       "      <th>4</th>\n",
       "      <td>4</td>\n",
       "      <td>7500000</td>\n",
       "      <td>3</td>\n",
       "      <td>3</td>\n",
       "      <td>3.0</td>\n",
       "      <td>1.0</td>\n",
       "      <td>1.0</td>\n",
       "      <td>1350</td>\n",
       "    </tr>\n",
       "  </tbody>\n",
       "</table>\n",
       "</div>"
      ],
      "text/plain": [
       "   Unnamed: 0     Price  BHK  beds  baths  balcony  covered-parking  \\\n",
       "0           0  60000000    3     3    3.0      NaN              1.0   \n",
       "1           1  47500000    3     3    5.0      NaN              2.0   \n",
       "2           2  45000000    3     3    4.0      NaN              1.0   \n",
       "3           3  17000000    3     3    2.0      4.0              1.0   \n",
       "4           4   7500000    3     3    3.0      1.0              1.0   \n",
       "\n",
       "   Carpet Area  \n",
       "0         2300  \n",
       "1         2250  \n",
       "2         1872  \n",
       "3         1450  \n",
       "4         1350  "
      ]
     },
     "execution_count": 5,
     "metadata": {},
     "output_type": "execute_result"
    }
   ],
   "source": [
    "new_df.head()"
   ]
  },
  {
   "cell_type": "code",
   "execution_count": 6,
   "id": "d2b0842b",
   "metadata": {},
   "outputs": [],
   "source": [
    "new_df = new_df.fillna(0)"
   ]
  },
  {
   "cell_type": "code",
   "execution_count": 7,
   "id": "b35f93f4",
   "metadata": {},
   "outputs": [
    {
     "data": {
      "text/plain": [
       "0      1\n",
       "1      2\n",
       "2      1\n",
       "3      1\n",
       "4      1\n",
       "      ..\n",
       "980    0\n",
       "981    1\n",
       "982    0\n",
       "983    0\n",
       "984    0\n",
       "Name: covered-parking, Length: 985, dtype: int32"
      ]
     },
     "execution_count": 7,
     "metadata": {},
     "output_type": "execute_result"
    }
   ],
   "source": [
    "new_df['covered-parking'].astype(int)"
   ]
  },
  {
   "cell_type": "code",
   "execution_count": 11,
   "id": "64256628",
   "metadata": {},
   "outputs": [
    {
     "name": "stdout",
     "output_type": "stream",
     "text": [
      "Mean Squared Error: 253622521416387.72\n",
      "Root Mean Squared Error: 15925530.490893787\n"
     ]
    }
   ],
   "source": [
    "import pandas as pd\n",
    "from sklearn.model_selection import train_test_split\n",
    "from sklearn.linear_model import LinearRegression\n",
    "from sklearn.metrics import mean_squared_error\n",
    "\n",
    "# Load the dataset\n",
    "data = new_df\n",
    "\n",
    "# Select the features and target variable\n",
    "X = data[['BHK', 'beds', 'baths', 'balcony', 'covered-parking', 'Carpet Area']]\n",
    "y = data['Price']\n",
    "\n",
    "# Split the data into training and testing sets\n",
    "X_train, X_test, y_train, y_test = train_test_split(X, y, test_size=0.3, random_state=42)\n",
    "\n",
    "# Create an instance of the linear regression model\n",
    "model = LinearRegression()\n",
    "\n",
    "# Fit the model to the training data\n",
    "model.fit(X_train, y_train)\n",
    "\n",
    "# Make predictions on the testing set\n",
    "y_pred = model.predict(X_test)\n",
    "\n",
    "# Evaluate the model\n",
    "mse = mean_squared_error(y_test, y_pred)\n",
    "rmse = mean_squared_error(y_test, y_pred, squared=False)\n",
    "\n",
    "print('Mean Squared Error:', mse)\n",
    "print('Root Mean Squared Error:', rmse)\n"
   ]
  },
  {
   "cell_type": "code",
   "execution_count": 18,
   "id": "7ceb16fc",
   "metadata": {},
   "outputs": [
    {
     "data": {
      "application/vnd.jupyter.widget-view+json": {
       "model_id": "60f57407dbae4b93a218e20686d86b58",
       "version_major": 2,
       "version_minor": 0
      },
      "text/plain": [
       "VBox(children=(IntSlider(value=1, description='BHK', max=10, min=1), IntSlider(value=1, description='Beds', ma…"
      ]
     },
     "metadata": {},
     "output_type": "display_data"
    },
    {
     "name": "stdout",
     "output_type": "stream",
     "text": [
      "Predicted House Price: 37984148\n"
     ]
    },
    {
     "name": "stderr",
     "output_type": "stream",
     "text": [
      "C:\\Users\\mohammad\\AppData\\Roaming\\Python\\Python39\\site-packages\\sklearn\\base.py:420: UserWarning: X does not have valid feature names, but LinearRegression was fitted with feature names\n",
      "  warnings.warn(\n"
     ]
    }
   ],
   "source": [
    "import pandas as pd\n",
    "from sklearn.linear_model import LinearRegression\n",
    "import ipywidgets as widgets\n",
    "import numpy as np\n",
    "\n",
    "# Load the dataset\n",
    "data = new_df\n",
    "\n",
    "# Select the features and target variable\n",
    "X = data[['BHK', 'beds', 'baths', 'balcony', 'covered-parking', 'Carpet Area']]\n",
    "y = data['Price']\n",
    "\n",
    "# Remove outliers using Z-score method\n",
    "z_scores = (X - X.mean()) / X.std()\n",
    "outlier_indices = np.abs(z_scores) > 3\n",
    "X = X[~outlier_indices.any(axis=1)]\n",
    "y = y[~outlier_indices.any(axis=1)]\n",
    "\n",
    "# Create an instance of the linear regression model\n",
    "model = LinearRegression()\n",
    "model.fit(X, y)\n",
    "\n",
    "# Create input widgets for the features\n",
    "bhk_widget = widgets.IntSlider(min=1, max=10, step=1, description='BHK')\n",
    "beds_widget = widgets.IntSlider(min=1, max=10, step=1, description='Beds')\n",
    "baths_widget = widgets.IntSlider(min=1, max=10, step=1, description='Baths')\n",
    "balcony_widget = widgets.IntSlider(min=0, max=5, step=1, description='Balcony')\n",
    "covered_parking_widget = widgets.Checkbox(description='Covered Parking')\n",
    "carpet_area_widget = widgets.FloatSlider(min=500, max=5000, step=100, description='Carpet Area (sqft)')\n",
    "\n",
    "# Create a button widget for prediction\n",
    "predict_button = widgets.Button(description='Predict')\n",
    "\n",
    "# Define a function to handle button click event\n",
    "def predict_button_clicked(b):\n",
    "    input_features = [[\n",
    "        bhk_widget.value,\n",
    "        beds_widget.value,\n",
    "        baths_widget.value,\n",
    "        balcony_widget.value,\n",
    "        int(covered_parking_widget.value),\n",
    "        carpet_area_widget.value\n",
    "    ]]\n",
    "    predicted_price = round(model.predict(input_features)[0])\n",
    "    print(f\"Predicted House Price: {predicted_price}\")\n",
    "\n",
    "# Attach the function to the button's on-click event\n",
    "predict_button.on_click(predict_button_clicked)\n",
    "\n",
    "# Create a vertical box layout for the widgets\n",
    "input_box = widgets.VBox([\n",
    "    bhk_widget,\n",
    "    beds_widget,\n",
    "    baths_widget,\n",
    "    balcony_widget,\n",
    "    covered_parking_widget,\n",
    "    carpet_area_widget,\n",
    "    predict_button\n",
    "])\n",
    "\n",
    "# Display the input box\n",
    "input_box\n"
   ]
  },
  {
   "cell_type": "code",
   "execution_count": 14,
   "id": "f4fd4489",
   "metadata": {},
   "outputs": [
    {
     "data": {
      "application/vnd.jupyter.widget-view+json": {
       "model_id": "04258cc9abbb4b3a892bdd8ea4c05705",
       "version_major": 2,
       "version_minor": 0
      },
      "text/plain": [
       "VBox(children=(IntSlider(value=1, description='BHK', max=10, min=1), IntSlider(value=1, description='Beds', ma…"
      ]
     },
     "metadata": {},
     "output_type": "display_data"
    },
    {
     "name": "stdout",
     "output_type": "stream",
     "text": [
      "Predicted House Price: 46641562.61195101\n"
     ]
    },
    {
     "name": "stderr",
     "output_type": "stream",
     "text": [
      "C:\\Users\\mohammad\\AppData\\Roaming\\Python\\Python39\\site-packages\\sklearn\\base.py:420: UserWarning: X does not have valid feature names, but LinearRegression was fitted with feature names\n",
      "  warnings.warn(\n"
     ]
    },
    {
     "name": "stdout",
     "output_type": "stream",
     "text": [
      "Predicted House Price: 29617219.045432787\n"
     ]
    },
    {
     "name": "stderr",
     "output_type": "stream",
     "text": [
      "C:\\Users\\mohammad\\AppData\\Roaming\\Python\\Python39\\site-packages\\sklearn\\base.py:420: UserWarning: X does not have valid feature names, but LinearRegression was fitted with feature names\n",
      "  warnings.warn(\n"
     ]
    },
    {
     "name": "stdout",
     "output_type": "stream",
     "text": [
      "Predicted House Price: 29617219.045432787\n"
     ]
    },
    {
     "name": "stderr",
     "output_type": "stream",
     "text": [
      "C:\\Users\\mohammad\\AppData\\Roaming\\Python\\Python39\\site-packages\\sklearn\\base.py:420: UserWarning: X does not have valid feature names, but LinearRegression was fitted with feature names\n",
      "  warnings.warn(\n"
     ]
    },
    {
     "name": "stdout",
     "output_type": "stream",
     "text": [
      "Predicted House Price: 28743444.244726393\n"
     ]
    },
    {
     "name": "stderr",
     "output_type": "stream",
     "text": [
      "C:\\Users\\mohammad\\AppData\\Roaming\\Python\\Python39\\site-packages\\sklearn\\base.py:420: UserWarning: X does not have valid feature names, but LinearRegression was fitted with feature names\n",
      "  warnings.warn(\n"
     ]
    }
   ],
   "source": [
    "import pandas as pd\n",
    "from sklearn.linear_model import LinearRegression\n",
    "import ipywidgets as widgets\n",
    "\n",
    "# Load the dataset\n",
    "data = new_df\n",
    "\n",
    "# Select the features and target variable\n",
    "X = data[['BHK', 'beds', 'baths', 'balcony', 'covered-parking', 'Carpet Area']]\n",
    "y = data['Price']\n",
    "\n",
    "# Create an instance of the linear regression model\n",
    "model = LinearRegression()\n",
    "model.fit(X, y)\n",
    "\n",
    "# Create input widgets for the features\n",
    "bhk_widget = widgets.IntSlider(min=1, max=10, step=1, description='BHK')\n",
    "beds_widget = widgets.IntSlider(min=1, max=10, step=1, description='Beds')\n",
    "baths_widget = widgets.IntSlider(min=1, max=10, step=1, description='Baths')\n",
    "balcony_widget = widgets.IntSlider(min=0, max=5, step=1, description='Balcony')\n",
    "covered_parking_widget = widgets.Checkbox(description='Covered Parking')\n",
    "carpet_area_widget = widgets.FloatSlider(min=500, max=5000, step=100, description='Carpet Area (sqft)')\n",
    "\n",
    "# Create a button widget for prediction\n",
    "predict_button = widgets.Button(description='Predict')\n",
    "\n",
    "# Define a function to handle button click event\n",
    "def predict_button_clicked(b):\n",
    "    input_features = [[\n",
    "        bhk_widget.value,\n",
    "        beds_widget.value,\n",
    "        baths_widget.value,\n",
    "        balcony_widget.value,\n",
    "        int(covered_parking_widget.value),\n",
    "        carpet_area_widget.value\n",
    "    ]]\n",
    "    predicted_price = model.predict(input_features)[0]\n",
    "    print(f\"Predicted House Price: {predicted_price}\")\n",
    "\n",
    "# Attach the function to the button's on-click event\n",
    "predict_button.on_click(predict_button_clicked)\n",
    "\n",
    "# Create a vertical box layout for the widgets\n",
    "input_box = widgets.VBox([\n",
    "    bhk_widget,\n",
    "    beds_widget,\n",
    "    baths_widget,\n",
    "    balcony_widget,\n",
    "    covered_parking_widget,\n",
    "    carpet_area_widget,\n",
    "    predict_button\n",
    "])\n",
    "\n",
    "# Display the input box\n",
    "input_box\n"
   ]
  },
  {
   "cell_type": "code",
   "execution_count": 23,
   "id": "549c6865",
   "metadata": {},
   "outputs": [
    {
     "data": {
      "application/vnd.jupyter.widget-view+json": {
       "model_id": "5f0935f172d74ed9992d66ab732def78",
       "version_major": 2,
       "version_minor": 0
      },
      "text/plain": [
       "VBox(children=(IntSlider(value=1, description='BHK', max=10, min=1), IntSlider(value=1, description='Beds', ma…"
      ]
     },
     "metadata": {},
     "output_type": "display_data"
    },
    {
     "name": "stdout",
     "output_type": "stream",
     "text": [
      "Predicted House Price: 38602013 (in words: three crore, eighty-six lakh, two thousand and thirteen)\n"
     ]
    },
    {
     "name": "stderr",
     "output_type": "stream",
     "text": [
      "C:\\Users\\mohammad\\AppData\\Roaming\\Python\\Python39\\site-packages\\sklearn\\base.py:420: UserWarning: X does not have valid feature names, but LinearRegression was fitted with feature names\n",
      "  warnings.warn(\n"
     ]
    },
    {
     "name": "stdout",
     "output_type": "stream",
     "text": [
      "Predicted House Price: 35512686 (in words: three crore, fifty-five lakh, twelve thousand, six hundred and eighty-six)\n"
     ]
    },
    {
     "name": "stderr",
     "output_type": "stream",
     "text": [
      "C:\\Users\\mohammad\\AppData\\Roaming\\Python\\Python39\\site-packages\\sklearn\\base.py:420: UserWarning: X does not have valid feature names, but LinearRegression was fitted with feature names\n",
      "  warnings.warn(\n"
     ]
    },
    {
     "name": "stdout",
     "output_type": "stream",
     "text": [
      "Predicted House Price: 29334032 (in words: two crore, ninety-three lakh, thirty-four thousand and thirty-two)\n"
     ]
    },
    {
     "name": "stderr",
     "output_type": "stream",
     "text": [
      "C:\\Users\\mohammad\\AppData\\Roaming\\Python\\Python39\\site-packages\\sklearn\\base.py:420: UserWarning: X does not have valid feature names, but LinearRegression was fitted with feature names\n",
      "  warnings.warn(\n"
     ]
    }
   ],
   "source": [
    "import pandas as pd\n",
    "from sklearn.linear_model import LinearRegression\n",
    "import ipywidgets as widgets\n",
    "import numpy as np\n",
    "from num2words import num2words\n",
    "\n",
    "# Load the dataset\n",
    "data = new_df\n",
    "\n",
    "# Select the features and target variable\n",
    "X = data[['BHK', 'beds', 'baths', 'balcony', 'covered-parking', 'Carpet Area']]\n",
    "y = data['Price']\n",
    "\n",
    "# Remove outliers using Z-score method\n",
    "z_scores = (X - X.mean()) / X.std()\n",
    "outlier_indices = np.abs(z_scores) > 3\n",
    "X = X[~outlier_indices.any(axis=1)]\n",
    "y = y[~outlier_indices.any(axis=1)]\n",
    "\n",
    "# Create an instance of the linear regression model\n",
    "model = LinearRegression()\n",
    "model.fit(X, y)\n",
    "\n",
    "# Create input widgets for the features\n",
    "bhk_widget = widgets.IntSlider(min=1, max=10, step=1, description='BHK')\n",
    "beds_widget = widgets.IntSlider(min=1, max=10, step=1, description='Beds')\n",
    "baths_widget = widgets.IntSlider(min=1, max=10, step=1, description='Baths')\n",
    "balcony_widget = widgets.IntSlider(min=0, max=5, step=1, description='Balcony')\n",
    "covered_parking_widget = widgets.Checkbox(description='Covered Parking')\n",
    "carpet_area_widget = widgets.FloatSlider(min=500, max=5000, step=100, description='Carpet Area (sqft)')\n",
    "\n",
    "# Create a button widget for prediction\n",
    "predict_button = widgets.Button(description='Predict')\n",
    "\n",
    "# Define a function to handle button click event\n",
    "def predict_button_clicked(b):\n",
    "    input_features = [[\n",
    "        bhk_widget.value,\n",
    "        beds_widget.value,\n",
    "        baths_widget.value,\n",
    "        balcony_widget.value,\n",
    "        int(covered_parking_widget.value),\n",
    "        carpet_area_widget.value\n",
    "    ]]\n",
    "    predicted_price = round(model.predict(input_features)[0])\n",
    "    predicted_price_words = num2words(predicted_price, lang='en_IN')\n",
    "    print(f\"Predicted House Price: {predicted_price} (in words: {predicted_price_words})\")\n",
    "\n",
    "# Attach the function to the button's on-click event\n",
    "predict_button.on_click(predict_button_clicked)\n",
    "\n",
    "# Create a vertical box layout for the widgets\n",
    "input_box = widgets.VBox([\n",
    "    bhk_widget,\n",
    "    beds_widget,\n",
    "    baths_widget,\n",
    "    balcony_widget,\n",
    "    covered_parking_widget,\n",
    "    carpet_area_widget,\n",
    "    predict_button\n",
    "])\n",
    "\n",
    "# Display the input box\n",
    "input_box\n"
   ]
  },
  {
   "cell_type": "code",
   "execution_count": null,
   "id": "674c0ba8",
   "metadata": {},
   "outputs": [],
   "source": []
  }
 ],
 "metadata": {
  "kernelspec": {
   "display_name": "Python 3 (ipykernel)",
   "language": "python",
   "name": "python3"
  },
  "language_info": {
   "codemirror_mode": {
    "name": "ipython",
    "version": 3
   },
   "file_extension": ".py",
   "mimetype": "text/x-python",
   "name": "python",
   "nbconvert_exporter": "python",
   "pygments_lexer": "ipython3",
   "version": "3.9.13"
  }
 },
 "nbformat": 4,
 "nbformat_minor": 5
}
