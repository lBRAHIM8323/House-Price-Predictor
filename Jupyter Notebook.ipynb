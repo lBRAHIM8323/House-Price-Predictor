{
 "cells": [
  {
   "cell_type": "code",
   "execution_count": 41,
   "id": "1c8f5bdc",
   "metadata": {},
   "outputs": [],
   "source": [
    "import numpy as np\n",
    "import pandas as pd\n",
    "import matplotlib.pyplot as plt\n",
    "import seaborn as sns"
   ]
  },
  {
   "cell_type": "code",
   "execution_count": 42,
   "id": "4ef7d5ba",
   "metadata": {},
   "outputs": [],
   "source": [
    "df = pd.read_csv(\"top_all.csv\")"
   ]
  },
  {
   "cell_type": "code",
   "execution_count": 43,
   "id": "f9bc3a14",
   "metadata": {
    "scrolled": true
   },
   "outputs": [
    {
     "data": {
      "text/html": [
       "<div>\n",
       "<style scoped>\n",
       "    .dataframe tbody tr th:only-of-type {\n",
       "        vertical-align: middle;\n",
       "    }\n",
       "\n",
       "    .dataframe tbody tr th {\n",
       "        vertical-align: top;\n",
       "    }\n",
       "\n",
       "    .dataframe thead th {\n",
       "        text-align: right;\n",
       "    }\n",
       "</style>\n",
       "<table border=\"1\" class=\"dataframe\">\n",
       "  <thead>\n",
       "    <tr style=\"text-align: right;\">\n",
       "      <th></th>\n",
       "      <th>Price</th>\n",
       "      <th>BHK</th>\n",
       "      <th>beds</th>\n",
       "      <th>baths</th>\n",
       "      <th>balcony</th>\n",
       "      <th>covered-parking</th>\n",
       "      <th>Carpet Area</th>\n",
       "      <th>Developer</th>\n",
       "      <th>Project</th>\n",
       "      <th>Floor</th>\n",
       "      <th>Transaction type</th>\n",
       "      <th>Status</th>\n",
       "      <th>Lifts</th>\n",
       "      <th>Address</th>\n",
       "      <th>Furnishing</th>\n",
       "      <th>Flooring</th>\n",
       "      <th>Water Availability</th>\n",
       "      <th>Status of Electricity</th>\n",
       "    </tr>\n",
       "  </thead>\n",
       "  <tbody>\n",
       "    <tr>\n",
       "      <th>0</th>\n",
       "      <td>₹6.0 Cr</td>\n",
       "      <td>3</td>\n",
       "      <td>3Beds</td>\n",
       "      <td>3Baths</td>\n",
       "      <td>NaN</td>\n",
       "      <td>1 Covered Parking</td>\n",
       "      <td>2300</td>\n",
       "      <td>DLF Ltd.</td>\n",
       "      <td>DLF One Midtown</td>\n",
       "      <td>NaN</td>\n",
       "      <td>New Property</td>\n",
       "      <td>Under Construction</td>\n",
       "      <td>2.0</td>\n",
       "      <td>Moti Nagar, New Delhi - West, Delhi NCR</td>\n",
       "      <td>Semi-Furnished</td>\n",
       "      <td>Vitrified</td>\n",
       "      <td>24 Hours Available</td>\n",
       "      <td>No/Rare Powercut</td>\n",
       "    </tr>\n",
       "    <tr>\n",
       "      <th>1</th>\n",
       "      <td>₹4.75 Cr</td>\n",
       "      <td>3</td>\n",
       "      <td>3Beds</td>\n",
       "      <td>5Baths</td>\n",
       "      <td>NaN</td>\n",
       "      <td>2 Covered Parking</td>\n",
       "      <td>2250</td>\n",
       "      <td>Indus Home</td>\n",
       "      <td>Luxury Builder Floor</td>\n",
       "      <td>NaN</td>\n",
       "      <td>New Property</td>\n",
       "      <td>Ready to Move</td>\n",
       "      <td>NaN</td>\n",
       "      <td>GK II, New Delhi - South, Delhi NCR</td>\n",
       "      <td>Semi-Furnished</td>\n",
       "      <td>NaN</td>\n",
       "      <td>24 Hours Available</td>\n",
       "      <td>No/Rare Powercut</td>\n",
       "    </tr>\n",
       "    <tr>\n",
       "      <th>2</th>\n",
       "      <td>₹4.50 Cr</td>\n",
       "      <td>3</td>\n",
       "      <td>3Beds</td>\n",
       "      <td>4Baths</td>\n",
       "      <td>NaN</td>\n",
       "      <td>1 Covered Parking</td>\n",
       "      <td>1872</td>\n",
       "      <td>Metro Buildtech</td>\n",
       "      <td>Premium Builder Floor</td>\n",
       "      <td>NaN</td>\n",
       "      <td>New Property</td>\n",
       "      <td>Ready to Move</td>\n",
       "      <td>NaN</td>\n",
       "      <td>GK I, New Delhi - South, Delhi NCR</td>\n",
       "      <td>Semi-Furnished</td>\n",
       "      <td>Vitrified, Wooden, Marble</td>\n",
       "      <td>24 Hours Available</td>\n",
       "      <td>No/Rare Powercut</td>\n",
       "    </tr>\n",
       "    <tr>\n",
       "      <th>3</th>\n",
       "      <td>₹1.70 Cr</td>\n",
       "      <td>3</td>\n",
       "      <td>3Beds</td>\n",
       "      <td>2Baths</td>\n",
       "      <td>4Balconies</td>\n",
       "      <td>1 Covered Parking</td>\n",
       "      <td>1450</td>\n",
       "      <td>Cooperative Group Housing Society</td>\n",
       "      <td>Nishat Apartment</td>\n",
       "      <td>3 (Out of 10 Floors)</td>\n",
       "      <td>Resale</td>\n",
       "      <td>Ready to Move</td>\n",
       "      <td>2.0</td>\n",
       "      <td>Dwarka Sector 19, New Delhi, Sector 19 Dwarka,...</td>\n",
       "      <td>Furnished</td>\n",
       "      <td>Marble</td>\n",
       "      <td>24 Hours Available</td>\n",
       "      <td>No/Rare Powercut</td>\n",
       "    </tr>\n",
       "    <tr>\n",
       "      <th>4</th>\n",
       "      <td>₹75.0 Lac</td>\n",
       "      <td>3</td>\n",
       "      <td>3Beds</td>\n",
       "      <td>3Baths</td>\n",
       "      <td>1Balcony</td>\n",
       "      <td>1 Covered Parking</td>\n",
       "      <td>1350</td>\n",
       "      <td>Delhi Development Authority DDA</td>\n",
       "      <td>DDA Freedom Fighter Enclave</td>\n",
       "      <td>3 (Out of 5 Floors)</td>\n",
       "      <td>New Property</td>\n",
       "      <td>Ready to Move</td>\n",
       "      <td>NaN</td>\n",
       "      <td>Freedom Fighter Enclave Saket New Delhi, Saket...</td>\n",
       "      <td>Semi-Furnished</td>\n",
       "      <td>Vitrified, Ceramic Tiles</td>\n",
       "      <td>24 Hours Available</td>\n",
       "      <td>No/Rare Powercut</td>\n",
       "    </tr>\n",
       "  </tbody>\n",
       "</table>\n",
       "</div>"
      ],
      "text/plain": [
       "       Price BHK   beds   baths     balcony    covered-parking Carpet Area  \\\n",
       "0    ₹6.0 Cr   3  3Beds  3Baths         NaN  1 Covered Parking        2300   \n",
       "1   ₹4.75 Cr   3  3Beds  5Baths         NaN  2 Covered Parking        2250   \n",
       "2   ₹4.50 Cr   3  3Beds  4Baths         NaN  1 Covered Parking        1872   \n",
       "3   ₹1.70 Cr   3  3Beds  2Baths  4Balconies  1 Covered Parking        1450   \n",
       "4  ₹75.0 Lac   3  3Beds  3Baths    1Balcony  1 Covered Parking        1350   \n",
       "\n",
       "                           Developer                      Project  \\\n",
       "0                           DLF Ltd.              DLF One Midtown   \n",
       "1                         Indus Home         Luxury Builder Floor   \n",
       "2                    Metro Buildtech        Premium Builder Floor   \n",
       "3  Cooperative Group Housing Society             Nishat Apartment   \n",
       "4    Delhi Development Authority DDA  DDA Freedom Fighter Enclave   \n",
       "\n",
       "                  Floor Transaction type              Status  Lifts  \\\n",
       "0                   NaN     New Property  Under Construction    2.0   \n",
       "1                   NaN     New Property       Ready to Move    NaN   \n",
       "2                   NaN     New Property       Ready to Move    NaN   \n",
       "3  3 (Out of 10 Floors)           Resale       Ready to Move    2.0   \n",
       "4   3 (Out of 5 Floors)     New Property       Ready to Move    NaN   \n",
       "\n",
       "                                             Address      Furnishing  \\\n",
       "0            Moti Nagar, New Delhi - West, Delhi NCR  Semi-Furnished   \n",
       "1                GK II, New Delhi - South, Delhi NCR  Semi-Furnished   \n",
       "2                 GK I, New Delhi - South, Delhi NCR  Semi-Furnished   \n",
       "3  Dwarka Sector 19, New Delhi, Sector 19 Dwarka,...       Furnished   \n",
       "4  Freedom Fighter Enclave Saket New Delhi, Saket...  Semi-Furnished   \n",
       "\n",
       "                    Flooring  Water Availability Status of Electricity  \n",
       "0                  Vitrified  24 Hours Available      No/Rare Powercut  \n",
       "1                        NaN  24 Hours Available      No/Rare Powercut  \n",
       "2  Vitrified, Wooden, Marble  24 Hours Available      No/Rare Powercut  \n",
       "3                     Marble  24 Hours Available      No/Rare Powercut  \n",
       "4   Vitrified, Ceramic Tiles  24 Hours Available      No/Rare Powercut  "
      ]
     },
     "execution_count": 43,
     "metadata": {},
     "output_type": "execute_result"
    }
   ],
   "source": [
    "df.head()"
   ]
  },
  {
   "cell_type": "code",
   "execution_count": 44,
   "id": "e86cf920",
   "metadata": {},
   "outputs": [
    {
     "data": {
      "text/plain": [
       "(986, 18)"
      ]
     },
     "execution_count": 44,
     "metadata": {},
     "output_type": "execute_result"
    }
   ],
   "source": [
    "df.shape"
   ]
  },
  {
   "cell_type": "code",
   "execution_count": 45,
   "id": "1e663c96",
   "metadata": {},
   "outputs": [
    {
     "name": "stdout",
     "output_type": "stream",
     "text": [
      "<class 'pandas.core.frame.DataFrame'>\n",
      "RangeIndex: 986 entries, 0 to 985\n",
      "Data columns (total 18 columns):\n",
      " #   Column                 Non-Null Count  Dtype  \n",
      "---  ------                 --------------  -----  \n",
      " 0   Price                  986 non-null    object \n",
      " 1   BHK                    986 non-null    object \n",
      " 2   beds                   986 non-null    object \n",
      " 3   baths                  921 non-null    object \n",
      " 4   balcony                715 non-null    object \n",
      " 5   covered-parking        341 non-null    object \n",
      " 6   Carpet Area            986 non-null    object \n",
      " 7   Developer              307 non-null    object \n",
      " 8   Project                357 non-null    object \n",
      " 9   Floor                  972 non-null    object \n",
      " 10  Transaction type       986 non-null    object \n",
      " 11  Status                 927 non-null    object \n",
      " 12  Lifts                  112 non-null    float64\n",
      " 13  Address                986 non-null    object \n",
      " 14  Furnishing             984 non-null    object \n",
      " 15  Flooring               724 non-null    object \n",
      " 16  Water Availability     579 non-null    object \n",
      " 17  Status of Electricity  583 non-null    object \n",
      "dtypes: float64(1), object(17)\n",
      "memory usage: 138.8+ KB\n"
     ]
    }
   ],
   "source": [
    "df.info()"
   ]
  },
  {
   "cell_type": "code",
   "execution_count": 46,
   "id": "5c2e9846",
   "metadata": {},
   "outputs": [
    {
     "data": {
      "text/plain": [
       "0        ₹6.0 Cr\n",
       "1       ₹4.75 Cr\n",
       "2       ₹4.50 Cr\n",
       "3       ₹1.70 Cr\n",
       "4      ₹75.0 Lac\n",
       "         ...    \n",
       "981    ₹85.0 Lac\n",
       "982    ₹32.0 Lac\n",
       "983     ₹2.50 Cr\n",
       "984    ₹50.0 Lac\n",
       "985     ₹2.25 Cr\n",
       "Name: Price, Length: 986, dtype: object"
      ]
     },
     "execution_count": 46,
     "metadata": {},
     "output_type": "execute_result"
    }
   ],
   "source": [
    "df[\"Price\"]"
   ]
  },
  {
   "cell_type": "code",
   "execution_count": 47,
   "id": "4cd26f4a",
   "metadata": {},
   "outputs": [],
   "source": [
    "Price_Updated = []\n",
    "for i in df[\"Price\"]:\n",
    "    i = i.replace(\"₹\",\"\")\n",
    "    if \"Cr\" in i:\n",
    "        i = i.replace(\"Cr\", \"* 10000000\")\n",
    "    if \"Lac\" in i:\n",
    "        i = i.replace(\"Lac\", \"* 100000\")\n",
    "    i = i.split(\"*\")\n",
    "    float_i_0 = float(i[0])\n",
    "    int_i_1 = int(i[-1])\n",
    "    mul = round(float_i_0 * int_i_1)\n",
    "    Price_Updated.append(mul)\n",
    "df[\"Price_Updated\"] = Price_Updated    "
   ]
  },
  {
   "cell_type": "code",
   "execution_count": 48,
   "id": "10ebdd6f",
   "metadata": {},
   "outputs": [
    {
     "data": {
      "text/html": [
       "<div>\n",
       "<style scoped>\n",
       "    .dataframe tbody tr th:only-of-type {\n",
       "        vertical-align: middle;\n",
       "    }\n",
       "\n",
       "    .dataframe tbody tr th {\n",
       "        vertical-align: top;\n",
       "    }\n",
       "\n",
       "    .dataframe thead th {\n",
       "        text-align: right;\n",
       "    }\n",
       "</style>\n",
       "<table border=\"1\" class=\"dataframe\">\n",
       "  <thead>\n",
       "    <tr style=\"text-align: right;\">\n",
       "      <th></th>\n",
       "      <th>Price</th>\n",
       "      <th>BHK</th>\n",
       "      <th>beds</th>\n",
       "      <th>baths</th>\n",
       "      <th>balcony</th>\n",
       "      <th>covered-parking</th>\n",
       "      <th>Carpet Area</th>\n",
       "      <th>Developer</th>\n",
       "      <th>Project</th>\n",
       "      <th>Floor</th>\n",
       "      <th>Transaction type</th>\n",
       "      <th>Status</th>\n",
       "      <th>Lifts</th>\n",
       "      <th>Address</th>\n",
       "      <th>Furnishing</th>\n",
       "      <th>Flooring</th>\n",
       "      <th>Water Availability</th>\n",
       "      <th>Status of Electricity</th>\n",
       "      <th>Price_Updated</th>\n",
       "    </tr>\n",
       "  </thead>\n",
       "  <tbody>\n",
       "    <tr>\n",
       "      <th>0</th>\n",
       "      <td>₹6.0 Cr</td>\n",
       "      <td>3</td>\n",
       "      <td>3Beds</td>\n",
       "      <td>3Baths</td>\n",
       "      <td>NaN</td>\n",
       "      <td>1 Covered Parking</td>\n",
       "      <td>2300</td>\n",
       "      <td>DLF Ltd.</td>\n",
       "      <td>DLF One Midtown</td>\n",
       "      <td>NaN</td>\n",
       "      <td>New Property</td>\n",
       "      <td>Under Construction</td>\n",
       "      <td>2.0</td>\n",
       "      <td>Moti Nagar, New Delhi - West, Delhi NCR</td>\n",
       "      <td>Semi-Furnished</td>\n",
       "      <td>Vitrified</td>\n",
       "      <td>24 Hours Available</td>\n",
       "      <td>No/Rare Powercut</td>\n",
       "      <td>60000000</td>\n",
       "    </tr>\n",
       "    <tr>\n",
       "      <th>1</th>\n",
       "      <td>₹4.75 Cr</td>\n",
       "      <td>3</td>\n",
       "      <td>3Beds</td>\n",
       "      <td>5Baths</td>\n",
       "      <td>NaN</td>\n",
       "      <td>2 Covered Parking</td>\n",
       "      <td>2250</td>\n",
       "      <td>Indus Home</td>\n",
       "      <td>Luxury Builder Floor</td>\n",
       "      <td>NaN</td>\n",
       "      <td>New Property</td>\n",
       "      <td>Ready to Move</td>\n",
       "      <td>NaN</td>\n",
       "      <td>GK II, New Delhi - South, Delhi NCR</td>\n",
       "      <td>Semi-Furnished</td>\n",
       "      <td>NaN</td>\n",
       "      <td>24 Hours Available</td>\n",
       "      <td>No/Rare Powercut</td>\n",
       "      <td>47500000</td>\n",
       "    </tr>\n",
       "    <tr>\n",
       "      <th>2</th>\n",
       "      <td>₹4.50 Cr</td>\n",
       "      <td>3</td>\n",
       "      <td>3Beds</td>\n",
       "      <td>4Baths</td>\n",
       "      <td>NaN</td>\n",
       "      <td>1 Covered Parking</td>\n",
       "      <td>1872</td>\n",
       "      <td>Metro Buildtech</td>\n",
       "      <td>Premium Builder Floor</td>\n",
       "      <td>NaN</td>\n",
       "      <td>New Property</td>\n",
       "      <td>Ready to Move</td>\n",
       "      <td>NaN</td>\n",
       "      <td>GK I, New Delhi - South, Delhi NCR</td>\n",
       "      <td>Semi-Furnished</td>\n",
       "      <td>Vitrified, Wooden, Marble</td>\n",
       "      <td>24 Hours Available</td>\n",
       "      <td>No/Rare Powercut</td>\n",
       "      <td>45000000</td>\n",
       "    </tr>\n",
       "    <tr>\n",
       "      <th>3</th>\n",
       "      <td>₹1.70 Cr</td>\n",
       "      <td>3</td>\n",
       "      <td>3Beds</td>\n",
       "      <td>2Baths</td>\n",
       "      <td>4Balconies</td>\n",
       "      <td>1 Covered Parking</td>\n",
       "      <td>1450</td>\n",
       "      <td>Cooperative Group Housing Society</td>\n",
       "      <td>Nishat Apartment</td>\n",
       "      <td>3 (Out of 10 Floors)</td>\n",
       "      <td>Resale</td>\n",
       "      <td>Ready to Move</td>\n",
       "      <td>2.0</td>\n",
       "      <td>Dwarka Sector 19, New Delhi, Sector 19 Dwarka,...</td>\n",
       "      <td>Furnished</td>\n",
       "      <td>Marble</td>\n",
       "      <td>24 Hours Available</td>\n",
       "      <td>No/Rare Powercut</td>\n",
       "      <td>17000000</td>\n",
       "    </tr>\n",
       "    <tr>\n",
       "      <th>4</th>\n",
       "      <td>₹75.0 Lac</td>\n",
       "      <td>3</td>\n",
       "      <td>3Beds</td>\n",
       "      <td>3Baths</td>\n",
       "      <td>1Balcony</td>\n",
       "      <td>1 Covered Parking</td>\n",
       "      <td>1350</td>\n",
       "      <td>Delhi Development Authority DDA</td>\n",
       "      <td>DDA Freedom Fighter Enclave</td>\n",
       "      <td>3 (Out of 5 Floors)</td>\n",
       "      <td>New Property</td>\n",
       "      <td>Ready to Move</td>\n",
       "      <td>NaN</td>\n",
       "      <td>Freedom Fighter Enclave Saket New Delhi, Saket...</td>\n",
       "      <td>Semi-Furnished</td>\n",
       "      <td>Vitrified, Ceramic Tiles</td>\n",
       "      <td>24 Hours Available</td>\n",
       "      <td>No/Rare Powercut</td>\n",
       "      <td>7500000</td>\n",
       "    </tr>\n",
       "  </tbody>\n",
       "</table>\n",
       "</div>"
      ],
      "text/plain": [
       "       Price BHK   beds   baths     balcony    covered-parking Carpet Area  \\\n",
       "0    ₹6.0 Cr   3  3Beds  3Baths         NaN  1 Covered Parking        2300   \n",
       "1   ₹4.75 Cr   3  3Beds  5Baths         NaN  2 Covered Parking        2250   \n",
       "2   ₹4.50 Cr   3  3Beds  4Baths         NaN  1 Covered Parking        1872   \n",
       "3   ₹1.70 Cr   3  3Beds  2Baths  4Balconies  1 Covered Parking        1450   \n",
       "4  ₹75.0 Lac   3  3Beds  3Baths    1Balcony  1 Covered Parking        1350   \n",
       "\n",
       "                           Developer                      Project  \\\n",
       "0                           DLF Ltd.              DLF One Midtown   \n",
       "1                         Indus Home         Luxury Builder Floor   \n",
       "2                    Metro Buildtech        Premium Builder Floor   \n",
       "3  Cooperative Group Housing Society             Nishat Apartment   \n",
       "4    Delhi Development Authority DDA  DDA Freedom Fighter Enclave   \n",
       "\n",
       "                  Floor Transaction type              Status  Lifts  \\\n",
       "0                   NaN     New Property  Under Construction    2.0   \n",
       "1                   NaN     New Property       Ready to Move    NaN   \n",
       "2                   NaN     New Property       Ready to Move    NaN   \n",
       "3  3 (Out of 10 Floors)           Resale       Ready to Move    2.0   \n",
       "4   3 (Out of 5 Floors)     New Property       Ready to Move    NaN   \n",
       "\n",
       "                                             Address      Furnishing  \\\n",
       "0            Moti Nagar, New Delhi - West, Delhi NCR  Semi-Furnished   \n",
       "1                GK II, New Delhi - South, Delhi NCR  Semi-Furnished   \n",
       "2                 GK I, New Delhi - South, Delhi NCR  Semi-Furnished   \n",
       "3  Dwarka Sector 19, New Delhi, Sector 19 Dwarka,...       Furnished   \n",
       "4  Freedom Fighter Enclave Saket New Delhi, Saket...  Semi-Furnished   \n",
       "\n",
       "                    Flooring  Water Availability Status of Electricity  \\\n",
       "0                  Vitrified  24 Hours Available      No/Rare Powercut   \n",
       "1                        NaN  24 Hours Available      No/Rare Powercut   \n",
       "2  Vitrified, Wooden, Marble  24 Hours Available      No/Rare Powercut   \n",
       "3                     Marble  24 Hours Available      No/Rare Powercut   \n",
       "4   Vitrified, Ceramic Tiles  24 Hours Available      No/Rare Powercut   \n",
       "\n",
       "   Price_Updated  \n",
       "0       60000000  \n",
       "1       47500000  \n",
       "2       45000000  \n",
       "3       17000000  \n",
       "4        7500000  "
      ]
     },
     "execution_count": 48,
     "metadata": {},
     "output_type": "execute_result"
    }
   ],
   "source": [
    "df.head()"
   ]
  },
  {
   "cell_type": "code",
   "execution_count": 49,
   "id": "1c050e00",
   "metadata": {},
   "outputs": [],
   "source": [
    "list1 = []\n",
    "for a in df[\"beds\"]:\n",
    "    a = a.replace(\"Beds\",\"\")\n",
    "    list1.append(a)\n"
   ]
  },
  {
   "cell_type": "code",
   "execution_count": 50,
   "id": "bf00ae9e",
   "metadata": {},
   "outputs": [],
   "source": [
    "df[\"beds\"] = list1"
   ]
  },
  {
   "cell_type": "code",
   "execution_count": 51,
   "id": "b635abf8",
   "metadata": {},
   "outputs": [
    {
     "data": {
      "text/plain": [
       "3    645\n",
       "2    341\n",
       "Name: beds, dtype: int64"
      ]
     },
     "execution_count": 51,
     "metadata": {},
     "output_type": "execute_result"
    }
   ],
   "source": [
    "df[\"beds\"].value_counts()"
   ]
  },
  {
   "cell_type": "code",
   "execution_count": 52,
   "id": "a6701014",
   "metadata": {},
   "outputs": [
    {
     "data": {
      "text/plain": [
       "1Balcony      330\n",
       "2Balconies    215\n",
       "3Balconies    135\n",
       "4Balconies     28\n",
       "5Balconies      7\n",
       "Name: balcony, dtype: int64"
      ]
     },
     "execution_count": 52,
     "metadata": {},
     "output_type": "execute_result"
    }
   ],
   "source": [
    "df[\"balcony\"].value_counts()"
   ]
  },
  {
   "cell_type": "code",
   "execution_count": 53,
   "id": "7bddfb12",
   "metadata": {},
   "outputs": [],
   "source": [
    "list2 = []\n",
    "for b in df[\"balcony\"]:\n",
    "    b = str(b)\n",
    "    b = b.replace(\"Balcony\",\"\")\n",
    "    b = b.replace(\"Balconies\",\"\")\n",
    "    list2.append(b)"
   ]
  },
  {
   "cell_type": "code",
   "execution_count": 54,
   "id": "dc413e51",
   "metadata": {},
   "outputs": [],
   "source": [
    "df[\"balcony\"] = list2"
   ]
  },
  {
   "cell_type": "code",
   "execution_count": 55,
   "id": "d9cb9d41",
   "metadata": {},
   "outputs": [
    {
     "data": {
      "text/plain": [
       "2Baths    530\n",
       "3Baths    348\n",
       "4Baths     41\n",
       "5Baths      2\n",
       "Name: baths, dtype: int64"
      ]
     },
     "execution_count": 55,
     "metadata": {},
     "output_type": "execute_result"
    }
   ],
   "source": [
    "df[\"baths\"].value_counts()"
   ]
  },
  {
   "cell_type": "code",
   "execution_count": 56,
   "id": "82fd3463",
   "metadata": {},
   "outputs": [],
   "source": [
    "list3 = []\n",
    "for c in df[\"baths\"]:\n",
    "    c = str(c)\n",
    "    c = c.replace(\"Baths\",\"\")\n",
    "    list3.append(c)\n",
    "    "
   ]
  },
  {
   "cell_type": "code",
   "execution_count": 57,
   "id": "0eebf7d7",
   "metadata": {},
   "outputs": [],
   "source": [
    "df[\"baths\"] = list3"
   ]
  },
  {
   "cell_type": "code",
   "execution_count": 58,
   "id": "5b6f3029",
   "metadata": {},
   "outputs": [
    {
     "data": {
      "text/plain": [
       "2      530\n",
       "3      348\n",
       "nan     65\n",
       "4       41\n",
       "5        2\n",
       "Name: baths, dtype: int64"
      ]
     },
     "execution_count": 58,
     "metadata": {},
     "output_type": "execute_result"
    }
   ],
   "source": [
    "df[\"baths\"].value_counts()"
   ]
  },
  {
   "cell_type": "code",
   "execution_count": 64,
   "id": "b258c66e",
   "metadata": {},
   "outputs": [
    {
     "data": {
      "text/plain": [
       "nan    645\n",
       "1      255\n",
       "2       79\n",
       "3        5\n",
       "24       1\n",
       "5        1\n",
       "Name: covered-parking, dtype: int64"
      ]
     },
     "execution_count": 64,
     "metadata": {},
     "output_type": "execute_result"
    }
   ],
   "source": [
    "df[\"covered-parking\"].value_counts()"
   ]
  },
  {
   "cell_type": "code",
   "execution_count": 72,
   "id": "fc6198fa",
   "metadata": {},
   "outputs": [
    {
     "ename": "ValueError",
     "evalue": "invalid literal for int() with base 10: 'nan'",
     "output_type": "error",
     "traceback": [
      "\u001b[1;31m---------------------------------------------------------------------------\u001b[0m",
      "\u001b[1;31mValueError\u001b[0m                                Traceback (most recent call last)",
      "\u001b[1;32m~\\AppData\\Local\\Temp\\ipykernel_14228\\2915998372.py\u001b[0m in \u001b[0;36m<module>\u001b[1;34m\u001b[0m\n\u001b[0;32m      3\u001b[0m     \u001b[0mc\u001b[0m \u001b[1;33m=\u001b[0m \u001b[0mstr\u001b[0m\u001b[1;33m(\u001b[0m\u001b[0mc\u001b[0m\u001b[1;33m)\u001b[0m\u001b[1;33m\u001b[0m\u001b[1;33m\u001b[0m\u001b[0m\n\u001b[0;32m      4\u001b[0m     \u001b[0mc\u001b[0m \u001b[1;33m=\u001b[0m \u001b[0mc\u001b[0m\u001b[1;33m.\u001b[0m\u001b[0mreplace\u001b[0m\u001b[1;33m(\u001b[0m\u001b[1;34m\"Covered Parking\"\u001b[0m\u001b[1;33m,\u001b[0m\u001b[1;34m\"\"\u001b[0m\u001b[1;33m)\u001b[0m\u001b[1;33m\u001b[0m\u001b[1;33m\u001b[0m\u001b[0m\n\u001b[1;32m----> 5\u001b[1;33m     \u001b[0mc\u001b[0m \u001b[1;33m=\u001b[0m \u001b[0mint\u001b[0m\u001b[1;33m(\u001b[0m\u001b[0mc\u001b[0m\u001b[1;33m)\u001b[0m\u001b[1;33m\u001b[0m\u001b[1;33m\u001b[0m\u001b[0m\n\u001b[0m\u001b[0;32m      6\u001b[0m     \u001b[0mlist4\u001b[0m\u001b[1;33m.\u001b[0m\u001b[0mappend\u001b[0m\u001b[1;33m(\u001b[0m\u001b[0mc\u001b[0m\u001b[1;33m)\u001b[0m\u001b[1;33m\u001b[0m\u001b[1;33m\u001b[0m\u001b[0m\n\u001b[0;32m      7\u001b[0m \u001b[0mdf\u001b[0m\u001b[1;33m[\u001b[0m\u001b[1;34m\"covered-parking\"\u001b[0m\u001b[1;33m]\u001b[0m \u001b[1;33m=\u001b[0m \u001b[0mlist4\u001b[0m\u001b[1;33m\u001b[0m\u001b[1;33m\u001b[0m\u001b[0m\n",
      "\u001b[1;31mValueError\u001b[0m: invalid literal for int() with base 10: 'nan'"
     ]
    }
   ],
   "source": [
    "list4 = []\n",
    "for c in df[\"covered-parking\"]:\n",
    "    c = str(c)\n",
    "    c = c.replace(\"Covered Parking\",\"\")\n",
    "    c = int(c)\n",
    "    list4.append(c)\n",
    "df[\"covered-parking\"] = list4"
   ]
  },
  {
   "cell_type": "code",
   "execution_count": 67,
   "id": "11ac8611",
   "metadata": {},
   "outputs": [
    {
     "data": {
      "text/plain": [
       "dtype('O')"
      ]
     },
     "execution_count": 67,
     "metadata": {},
     "output_type": "execute_result"
    }
   ],
   "source": [
    "df[\"covered-parking\"].dtype"
   ]
  },
  {
   "cell_type": "code",
   "execution_count": 73,
   "id": "3182db06",
   "metadata": {},
   "outputs": [
    {
     "data": {
      "text/plain": [
       "Ready to Move         925\n",
       "Under Construction      2\n",
       "Name: Status, dtype: int64"
      ]
     },
     "execution_count": 73,
     "metadata": {},
     "output_type": "execute_result"
    }
   ],
   "source": [
    "df[\"Status\"].value_counts()"
   ]
  },
  {
   "cell_type": "code",
   "execution_count": 75,
   "id": "a1204a00",
   "metadata": {},
   "outputs": [
    {
     "data": {
      "text/html": [
       "<div>\n",
       "<style scoped>\n",
       "    .dataframe tbody tr th:only-of-type {\n",
       "        vertical-align: middle;\n",
       "    }\n",
       "\n",
       "    .dataframe tbody tr th {\n",
       "        vertical-align: top;\n",
       "    }\n",
       "\n",
       "    .dataframe thead th {\n",
       "        text-align: right;\n",
       "    }\n",
       "</style>\n",
       "<table border=\"1\" class=\"dataframe\">\n",
       "  <thead>\n",
       "    <tr style=\"text-align: right;\">\n",
       "      <th></th>\n",
       "      <th>Price</th>\n",
       "      <th>BHK</th>\n",
       "      <th>beds</th>\n",
       "      <th>baths</th>\n",
       "      <th>balcony</th>\n",
       "      <th>covered-parking</th>\n",
       "      <th>Carpet Area</th>\n",
       "      <th>Developer</th>\n",
       "      <th>Project</th>\n",
       "      <th>Floor</th>\n",
       "      <th>Transaction type</th>\n",
       "      <th>Status</th>\n",
       "      <th>Lifts</th>\n",
       "      <th>Address</th>\n",
       "      <th>Furnishing</th>\n",
       "      <th>Flooring</th>\n",
       "      <th>Water Availability</th>\n",
       "      <th>Status of Electricity</th>\n",
       "      <th>Price_Updated</th>\n",
       "    </tr>\n",
       "  </thead>\n",
       "  <tbody>\n",
       "    <tr>\n",
       "      <th>0</th>\n",
       "      <td>₹6.0 Cr</td>\n",
       "      <td>3</td>\n",
       "      <td>3</td>\n",
       "      <td>3</td>\n",
       "      <td>nan</td>\n",
       "      <td>1</td>\n",
       "      <td>2300</td>\n",
       "      <td>DLF Ltd.</td>\n",
       "      <td>DLF One Midtown</td>\n",
       "      <td>NaN</td>\n",
       "      <td>New Property</td>\n",
       "      <td>Under Construction</td>\n",
       "      <td>2.0</td>\n",
       "      <td>Moti Nagar, New Delhi - West, Delhi NCR</td>\n",
       "      <td>Semi-Furnished</td>\n",
       "      <td>Vitrified</td>\n",
       "      <td>24 Hours Available</td>\n",
       "      <td>No/Rare Powercut</td>\n",
       "      <td>60000000</td>\n",
       "    </tr>\n",
       "  </tbody>\n",
       "</table>\n",
       "</div>"
      ],
      "text/plain": [
       "     Price BHK beds baths balcony covered-parking Carpet Area Developer  \\\n",
       "0  ₹6.0 Cr   3    3     3     nan              1         2300  DLF Ltd.   \n",
       "\n",
       "           Project Floor Transaction type              Status  Lifts  \\\n",
       "0  DLF One Midtown   NaN     New Property  Under Construction    2.0   \n",
       "\n",
       "                                   Address      Furnishing   Flooring  \\\n",
       "0  Moti Nagar, New Delhi - West, Delhi NCR  Semi-Furnished  Vitrified   \n",
       "\n",
       "   Water Availability Status of Electricity  Price_Updated  \n",
       "0  24 Hours Available      No/Rare Powercut       60000000  "
      ]
     },
     "execution_count": 75,
     "metadata": {},
     "output_type": "execute_result"
    }
   ],
   "source": [
    "df.head(1)"
   ]
  },
  {
   "cell_type": "code",
   "execution_count": null,
   "id": "ae65c78a",
   "metadata": {},
   "outputs": [],
   "source": []
  }
 ],
 "metadata": {
  "kernelspec": {
   "display_name": "Python 3 (ipykernel)",
   "language": "python",
   "name": "python3"
  },
  "language_info": {
   "codemirror_mode": {
    "name": "ipython",
    "version": 3
   },
   "file_extension": ".py",
   "mimetype": "text/x-python",
   "name": "python",
   "nbconvert_exporter": "python",
   "pygments_lexer": "ipython3",
   "version": "3.9.13"
  }
 },
 "nbformat": 4,
 "nbformat_minor": 5
}
